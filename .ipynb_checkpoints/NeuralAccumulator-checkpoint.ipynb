{
 "cells": [
  {
   "cell_type": "code",
   "execution_count": 1,
   "metadata": {},
   "outputs": [
    {
     "data": {
      "text/plain": [
       "'\\nPaper   : https://arxiv.org/pdf/1808.00508v1.pdf\\nAuthors : Andrew Trask, Felix Hill, Scott Reed, Jack Rae\\n'"
      ]
     },
     "execution_count": 1,
     "metadata": {},
     "output_type": "execute_result"
    }
   ],
   "source": [
    "\"\"\"\n",
    "Paper   : https://arxiv.org/pdf/1808.00508v1.pdf\n",
    "Authors : Andrew Trask, Felix Hill, Scott Reed, Jack Rae\n",
    "\"\"\""
   ]
  },
  {
   "cell_type": "markdown",
   "metadata": {},
   "source": [
    "## Neural Accumulator"
   ]
  },
  {
   "cell_type": "code",
   "execution_count": 4,
   "metadata": {},
   "outputs": [],
   "source": [
    "import torch\n",
    "import torch.nn as nn\n",
    "from torch.nn.parameter import Parameter\n",
    "import numpy as np\n",
    "import matplotlib.pyplot as plt"
   ]
  },
  {
   "cell_type": "code",
   "execution_count": 5,
   "metadata": {},
   "outputs": [],
   "source": [
    "class NeuralAccumulator(nn.Module):\n",
    "    def __init__(self, in_dim, out_dim):\n",
    "        super(NeuralAccumulator, self).__init__()\n",
    "        self.W1 = Parameter(torch.Tensor(out_dim, in_dim))\n",
    "        self.W2 = Parameter(torch.Tensor(out_dim, in_dim))\n",
    "        self.register_parameter('bias', None)\n",
    "        \n",
    "        self.W = Parameter(torch.tanh(self.W1) * torch.sigmoid(self.W2))\n",
    "        \n",
    "        nn.init.xavier_uniform_(self.W1)\n",
    "        nn.init.xavier_uniform_(self.W2)\n",
    "        \n",
    "    def forward(self, x):\n",
    "        out = nn.functional.linear(x, self.W, self.bias)"
   ]
  },
  {
   "cell_type": "code",
   "execution_count": null,
   "metadata": {},
   "outputs": [],
   "source": []
  }
 ],
 "metadata": {
  "kernelspec": {
   "display_name": "Python3 (dlenv)",
   "language": "python",
   "name": "dlenv"
  },
  "language_info": {
   "codemirror_mode": {
    "name": "ipython",
    "version": 3
   },
   "file_extension": ".py",
   "mimetype": "text/x-python",
   "name": "python",
   "nbconvert_exporter": "python",
   "pygments_lexer": "ipython3",
   "version": "3.6.8"
  }
 },
 "nbformat": 4,
 "nbformat_minor": 2
}
